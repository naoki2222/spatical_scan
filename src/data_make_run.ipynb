{
 "cells": [
  {
   "cell_type": "code",
   "execution_count": null,
   "metadata": {},
   "outputs": [],
   "source": [
    "#ローカルファイルの読み込み\n",
    "import data_make as dm\n",
    "import Input_form as Info \n",
    "from tqdm.notebook import tqdm\n",
    "import openpyxl\n",
    "import git\n",
    "import os\n",
    "import pickle"
   ]
  },
  {
   "cell_type": "code",
   "execution_count": null,
   "metadata": {},
   "outputs": [],
   "source": [
    "#取得するデータの指定\n",
    "repo_url, from_ver, to_ver, client_id, client_secret = Info.data_get()  #リポジトリのURL指定, 比較するブランチ, APIのid, KEY"
   ]
  },
  {
   "cell_type": "code",
   "execution_count": null,
   "metadata": {},
   "outputs": [],
   "source": [
    "repo_path = '../repo/' + to_ver\n",
    "\n",
    "if not os.path.exists(repo_path):\n",
    "    os.mkdir(repo_path)\n",
    "    print(repo_path + 'を作成しました.')\n",
    "\n",
    "#すでに../repoにファイルが存在するならクローンしない\n",
    "if os.listdir(repo_path) == []:\n",
    "    #リポジトリのクローン\n",
    "    git.Repo.clone_from(repo_url, repo_path, branch=to_ver) #--> 後のバージョンのリポジトリ\n",
    "    print('クローン成功')\n",
    "else:\n",
    "    print('すでに../repoにはファイルが存在しています')"
   ]
  },
  {
   "cell_type": "code",
   "execution_count": null,
   "metadata": {},
   "outputs": [],
   "source": [
    "#ファイルの行数とファイルの依存関係の取得\n",
    "java_line = dm.get_java_line(repo_path, repo_url, from_ver, to_ver, client_id, client_secret)\n",
    "#コミット情報の取得\n",
    "java_commit = dm.get_java_commit(repo_url, from_ver, to_ver, client_id, client_secret,java_line)\n",
    "#変更行数の割合を取得\n",
    "prob_list = dm.get_prob_list(java_line, java_commit)\n",
    "#依存関係の取得\n",
    "import_dependencies, exception_dependencies, class_interface_dic, extends_list, interface_extends_list = dm.get_dependencies(repo_path)"
   ]
  },
  {
   "cell_type": "code",
   "execution_count": null,
   "metadata": {},
   "outputs": [],
   "source": [
    "#ファイル名のリストの作成\n",
    "file_list = []\n",
    "for java_elem in java_line:\n",
    "    file_list.append(java_elem[0])\n",
    "\n",
    "#ファイル名をjava_lineのものに合わせる\n",
    "new_import_dependencies = []\n",
    "for i in tqdm(import_dependencies):\n",
    "    for j in file_list:\n",
    "        if i[1] in j:\n",
    "            new_import_dependencies.append([i[0],j])\n",
    "            \n",
    "new_exception_dependencies = []\n",
    "for i in tqdm(exception_dependencies):\n",
    "    for j in file_list:\n",
    "        if i[1] in j:\n",
    "            new_exception_dependencies.append([i[0],j])"
   ]
  },
  {
   "cell_type": "code",
   "execution_count": null,
   "metadata": {},
   "outputs": [],
   "source": [
    "#ファイル名をjava_lineのものに合わせる\n",
    "for i in extends_list:\n",
    "    for j in java_line:\n",
    "        if j[0] in i[0]:\n",
    "            i[0] = j[0]\n",
    "        if j[0] in i[1]:\n",
    "            i[1] = j[0]"
   ]
  },
  {
   "cell_type": "code",
   "execution_count": null,
   "metadata": {},
   "outputs": [],
   "source": [
    "#ファイル名をjava_lineのものに合わせる\n",
    "for i in interface_extends_list:\n",
    "    for j in java_line:\n",
    "        if j[0] in i[0]:\n",
    "            i[0] = j[0]\n",
    "        if j[0] in i[1]:\n",
    "            i[1] = j[0]"
   ]
  },
  {
   "cell_type": "code",
   "execution_count": null,
   "metadata": {},
   "outputs": [],
   "source": [
    "all_dependencies = new_import_dependencies + new_exception_dependencies + extends_list + interface_extends_list"
   ]
  },
  {
   "cell_type": "code",
   "execution_count": null,
   "metadata": {},
   "outputs": [],
   "source": [
    "#ファイル名のリストの作成\n",
    "file_list = []\n",
    "for java_elem in java_line:\n",
    "    file_list.append(java_elem[0])\n",
    "\n",
    "#java_lineにない例外依存関係を取り除く\n",
    "new_all_dependencies = []\n",
    "for depend in all_dependencies:\n",
    "    if depend[0] in file_list and depend[1] in file_list:\n",
    "        new_all_dependencies.append(i)\n",
    "\n",
    "#無効グラフの作成\n",
    "undirected_module = []\n",
    "for i in new_all_dependencies:\n",
    "    undirected_module.append([i[1],i[0]])\n",
    "\n",
    "java_module = new_all_dependencies + undirected_module\n",
    "len(java_module)"
   ]
  },
  {
   "cell_type": "code",
   "execution_count": null,
   "metadata": {},
   "outputs": [],
   "source": [
    "print(len(new_import_dependencies))\n",
    "print(len(new_exception_dependencies))\n",
    "print(len(extends_list))\n",
    "print(len(interface_extends_list))"
   ]
  },
  {
   "cell_type": "code",
   "execution_count": null,
   "metadata": {},
   "outputs": [],
   "source": [
    "len(java_module)"
   ]
  },
  {
   "cell_type": "code",
   "execution_count": null,
   "metadata": {},
   "outputs": [],
   "source": [
    "with open('java_line.bin', 'wb') as f:\n",
    "    pickle.dump(java_line, f)\n",
    "with open('java_commit.bin', 'wb') as f:\n",
    "    pickle.dump(java_commit, f)\n",
    "with open('prob_list.bin', 'wb') as f:\n",
    "    pickle.dump(prob_list, f)\n",
    "with open('java_module.bin', 'wb') as f:\n",
    "    pickle.dump(java_module, f)"
   ]
  }
 ],
 "metadata": {
  "kernelspec": {
   "display_name": "Python 3",
   "language": "python",
   "name": "python3"
  },
  "language_info": {
   "codemirror_mode": {
    "name": "ipython",
    "version": 3
   },
   "file_extension": ".py",
   "mimetype": "text/x-python",
   "name": "python",
   "nbconvert_exporter": "python",
   "pygments_lexer": "ipython3",
   "version": "3.7.6"
  }
 },
 "nbformat": 4,
 "nbformat_minor": 4
}
