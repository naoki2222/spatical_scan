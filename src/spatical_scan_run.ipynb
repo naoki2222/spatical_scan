{
 "cells": [
  {
   "cell_type": "code",
   "execution_count": null,
   "metadata": {},
   "outputs": [],
   "source": [
    "#インポート\n",
    "import numpy as np\n",
    "import pandas as pd\n",
    "from tqdm.notebook import tqdm \n",
    "import openpyxl\n",
    "import git\n",
    "import os\n",
    "import pickle\n",
    "\n",
    "#ローカルファイルの読み込み\n",
    "import data_make as dm   #データを取得するためのファイル\n",
    "import Input_form as Info #ファイル名の入力などを行うためのファイル"
   ]
  },
  {
   "cell_type": "code",
   "execution_count": null,
   "metadata": {},
   "outputs": [],
   "source": [
    "with open('java_line.bin', 'rb') as f:\n",
    "    java_line = pickle.load(f) # load commit_set\n",
    "with open('java_commit.bin', 'rb') as f:\n",
    "    java_commit = pickle.load(f)\n",
    "with open('prob_list.bin', 'rb') as f:\n",
    "    prob_list = pickle.load(f)\n",
    "with open('java_module.bin', 'rb') as f:\n",
    "    java_module = pickle.load(f)"
   ]
  },
  {
   "cell_type": "code",
   "execution_count": null,
   "metadata": {},
   "outputs": [],
   "source": [
    "#結果の出力\n",
    "print('java_module')\n",
    "print('依存関係の数: '+ str(len(java_module)))\n",
    "\n",
    "print('java_line')\n",
    "print('ファイル数: '+ str(len(java_line)))\n",
    "print('java_commit')\n",
    "print('コミットファイル数: ',str(len(java_commit)))\n",
    "print('prob_list')\n",
    "print(len(prob_list))"
   ]
  },
  {
   "cell_type": "code",
   "execution_count": null,
   "metadata": {},
   "outputs": [],
   "source": [
    "#空間スキャン検定に必要なファイルの読み込み\n",
    "import CircularScan as cs"
   ]
  },
  {
   "cell_type": "code",
   "execution_count": null,
   "metadata": {},
   "outputs": [],
   "source": [
    "scan_method, scan_type, graph_type, threshold, iter_num, hop_count = Info.data_get2()\n",
    "threshold = float(threshold)\n",
    "iter_num = int(iter_num)\n",
    "hop_count = int(hop_count)"
   ]
  },
  {
   "cell_type": "code",
   "execution_count": null,
   "metadata": {},
   "outputs": [],
   "source": [
    "int(len(java_module)/2)"
   ]
  },
  {
   "cell_type": "code",
   "execution_count": null,
   "metadata": {},
   "outputs": [],
   "source": [
    "#依存関係の選択\n",
    "if graph_type == '有効グラフ' and exception_select == \"あり\":\n",
    "    new_java_module = java_module[0:int(len(java_module)/2)]  #<-- 有向グラフ 例外処理あり\n",
    "elif graph_type == '無向グラフ' and exception_select == \"あり\":\n",
    "    new_java_module = java_module  #<-- 無向グラフ 例外処理あり\n",
    "else:\n",
    "    print('該当する依存関係なし')\n",
    "\n",
    "#実行\n",
    "if scan_method == 'repeat':\n",
    "    result = cs.CS_run_repeat(java_line, java_commit, new_java_module, prob_list, scan_type, iter_num, hop_count, threshold)\n",
    "elif scan_method == 'single':\n",
    "    result = cs.CS_run_single(java_line, java_commit, new_java_module, prob_list, scan_type, iter_num, hop_count, threshold)"
   ]
  },
  {
   "cell_type": "code",
   "execution_count": null,
   "metadata": {},
   "outputs": [],
   "source": [
    "result"
   ]
  },
  {
   "cell_type": "code",
   "execution_count": null,
   "metadata": {},
   "outputs": [],
   "source": [
    "#結果の保存\n",
    "result_path = '../result'\n",
    "\n",
    "if not os.path.exists(result_path):\n",
    "    os.mkdir(result_path)\n",
    "    print(result_path + 'を作成しました.')\n",
    "\n",
    "#保存ファイル名の決定\n",
    "Excel_name = 'result_JSP_0.9.9-0.9.10_from_ver_dependency'\n",
    "\n",
    "#データフレームへの変換\n",
    "df = pd.DataFrame(result, columns=['ファイル名','p値','LLR値'])\n",
    "\n",
    "#エクセルデータとして結果を保存\n",
    "df.to_excel(result_path+'/'+Excel_name+'.xlsx', sheet_name='new_sheet_name')"
   ]
  },
  {
   "cell_type": "code",
   "execution_count": null,
   "metadata": {
    "scrolled": true
   },
   "outputs": [],
   "source": [
    "#実験のログを保存\n",
    "log = ['リポジトリ : ' + repo_url + '\\n',\n",
    "     'ブランチ : ' + from_ver + ' - ' + to_ver + '\\n',\n",
    "     '結果ファイル : ' + Excel_name + '.xlsx \\n',\n",
    "     'CSの関数 : '       + scan_method + '\\n' , \n",
    "     '停止条件の種類 : ' + scan_type + '\\n' ,\n",
    "     'グラフの種類 : '   + graph_type + '\\n', \n",
    "     'しきい値 : '       + str(threshold) + '\\n' ,\n",
    "     'CSの実行回数 : '   + str(iter_num) + '\\n',\n",
    "     'CSのホップ数 : '   + str(hop_count)]\n",
    "\n",
    "#書き込み\n",
    "with open(result_path + '/' + Excel_name + '_result_log.txt', mode='w') as f:\n",
    "    f.writelines(log)\n",
    "\n",
    "with open(result_path + '/' + Excel_name + '_result_log.txt') as f:\n",
    "    print(f.read())"
   ]
  }
 ],
 "metadata": {
  "kernelspec": {
   "display_name": "Python 3",
   "language": "python",
   "name": "python3"
  },
  "language_info": {
   "codemirror_mode": {
    "name": "ipython",
    "version": 3
   },
   "file_extension": ".py",
   "mimetype": "text/x-python",
   "name": "python",
   "nbconvert_exporter": "python",
   "pygments_lexer": "ipython3",
   "version": "3.7.6"
  }
 },
 "nbformat": 4,
 "nbformat_minor": 2
}
