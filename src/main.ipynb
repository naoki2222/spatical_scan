{
 "cells": [
  {
   "cell_type": "code",
   "execution_count": null,
   "metadata": {},
   "outputs": [],
   "source": [
    "#インポート\n",
    "import numpy as np\n",
    "import pandas as pd\n",
    "from tqdm.notebook import tqdm \n",
    "import openpyxl\n",
    "import git\n",
    "import os\n",
    "\n",
    "#ローカルファイルの読み込み\n",
    "import data_make as dm   #データを取得するためのファイル\n",
    "import Input_form as Info #ファイル名の入力などを行うためのファイル"
   ]
  },
  {
   "cell_type": "code",
   "execution_count": null,
   "metadata": {},
   "outputs": [],
   "source": [
    "#取得するデータの指定\n",
    "repo_url, from_ver, to_ver, client_id, client_secret = Info.data_get()  #リポジトリのURL指定, 比較するブランチ, APIのid, KEY"
   ]
  },
  {
   "cell_type": "code",
   "execution_count": null,
   "metadata": {},
   "outputs": [],
   "source": [
    "repo_path = '../repo_JSP'\n",
    "\n",
    "if not os.path.exists(repo_path):\n",
    "    os.mkdir(repo_path)\n",
    "    print(repo_path + 'を作成しました.')\n",
    "\n",
    "#すでに../repoにファイルが存在するならクローンしない\n",
    "if os.listdir(repo_path) == []:\n",
    "    #リポジトリのクローン\n",
    "    git.Repo.clone_from(repo_url, repo_path, branch=to_ver)\n",
    "    print('クローン成功')\n",
    "else:\n",
    "    print('すでに../repoにはファイルが存在しています')"
   ]
  },
  {
   "cell_type": "code",
   "execution_count": null,
   "metadata": {},
   "outputs": [],
   "source": [
    "#ファイルの行数とファイルの依存関係の取得\n",
    "java_line = dm.get_java_line(repo_path, repo_url, from_ver, to_ver, client_id, client_secret)\n",
    "#コミット情報の取得\n",
    "java_commit = dm.get_java_commit(repo_url, from_ver, to_ver, client_id, client_secret,java_line)\n",
    "#変更行数の割合を取得\n",
    "prob_list = dm.get_prob_list(java_line, java_commit)\n",
    "#依存関係の取得\n",
    "import_module, exception_module= dm.get_dependencies(repo_path)"
   ]
  },
  {
   "cell_type": "code",
   "execution_count": null,
   "metadata": {},
   "outputs": [],
   "source": [
    "#結果の出力\n",
    "print('import_module')\n",
    "print('依存関係数: '+ str(len(import_module)))\n",
    "print('exception_module')\n",
    "print('例外依存関係数: '+ str(len(exception_module)))\n",
    "\n",
    "print('java_line')\n",
    "print('ファイル数: '+ str(len(java_line)))\n",
    "print('java_commit')\n",
    "print('コミットファイル数: ',str(len(java_commit)))\n",
    "print('prob_list')\n",
    "print(len(prob_list))"
   ]
  },
  {
   "cell_type": "code",
   "execution_count": null,
   "metadata": {},
   "outputs": [],
   "source": [
    "#ファイル名のリストの作成\n",
    "file_list = []\n",
    "for i in java_line:\n",
    "    file_list.append(i[0])\n",
    "\n",
    "\n",
    "#java_lineにない例外依存関係を取り除く\n",
    "new_exception_module = []\n",
    "for i in tqdm(exception_module):\n",
    "    for j in file_list:\n",
    "        if i[1] in j:\n",
    "            new_exception_module.append([i[0],j])\n",
    "            \n",
    "#java_lineにない依存関係を取り除く\n",
    "new_import_module = []\n",
    "for i in tqdm(import_module):\n",
    "    for j in file_list:\n",
    "        if i[1] in j:\n",
    "            new_import_module.append([i[0],j])"
   ]
  },
  {
   "cell_type": "code",
   "execution_count": null,
   "metadata": {},
   "outputs": [],
   "source": [
    "#無効グラフの作成\n",
    "undirected_module = []\n",
    "for i in tqdm(new_import_module):\n",
    "    undirected_module.append([i[1],i[0]])\n",
    "    \n",
    "undirected_module = new_import_module + undirected_module\n",
    "len(undirected_module)"
   ]
  },
  {
   "cell_type": "code",
   "execution_count": null,
   "metadata": {},
   "outputs": [],
   "source": [
    "#例外処理のファイルの依存関係を取り除く\n",
    "exclude_exception_module = []\n",
    "for i in new_import_module:\n",
    "    if i not in new_exception_module:\n",
    "        exclude_exception_module.append(i)"
   ]
  },
  {
   "cell_type": "code",
   "execution_count": null,
   "metadata": {},
   "outputs": [],
   "source": [
    "#無効グラフの作成\n",
    "#例外処理のファイルの依存関係を取り除く\n",
    "#無効グラフの作成\n",
    "exclude_undirected_module = []\n",
    "for i in tqdm(exclude_exception_module):\n",
    "    exclude_undirected_module.append([i[1],i[0]])\n",
    "\n",
    "exclude_undirected_module = exclude_exception_module + exclude_undirected_module\n",
    "len(exclude_undirected_module)"
   ]
  },
  {
   "cell_type": "code",
   "execution_count": null,
   "metadata": {},
   "outputs": [],
   "source": [
    "#空間スキャン検定に必要なファイルの読み込み\n",
    "import CircularScan as cs"
   ]
  },
  {
   "cell_type": "code",
   "execution_count": null,
   "metadata": {},
   "outputs": [],
   "source": [
    "scan_method, scan_type, graph_type, exception_select, threshold, iter_num, hop_count = Info.data_get2()\n",
    "threshold = float(threshold)\n",
    "iter_num = int(iter_num)\n",
    "hop_count = int(hop_count)"
   ]
  },
  {
   "cell_type": "code",
   "execution_count": null,
   "metadata": {},
   "outputs": [],
   "source": [
    "#依存関係の選択\n",
    "if graph_type == '有効グラフ' and exception_select == \"なし\":\n",
    "    java_module = exclude_exception_module #<--有向グラフ 例外処理なし\n",
    "elif graph_type == '無向グラフ' and exception_select == \"なし\":\n",
    "    java_module = exclude_undirected_module  #<-- 無向グラフ 例外処理なし\n",
    "elif graph_type == '有効グラフ' and exception_select == \"あり\":\n",
    "    java_module = new_import_module  #<-- 有向グラフ 例外処理あり\n",
    "elif graph_type == '無向グラフ' and exception_select == \"あり\":\n",
    "    java_module = undirected_module  #<-- 無向グラフ 例外処理あり\n",
    "else:\n",
    "    print('該当する依存関係なし')\n",
    "\n",
    "#実行\n",
    "if scan_method == 'repeat':\n",
    "    result = cs.CS_run_repeat(java_line, java_commit, java_module, prob_list, scan_type, iter_num, hop_count, threshold)\n",
    "elif scan_method == 'single':\n",
    "    result = cs.CS_run_single(java_line, java_commit, java_module, prob_list, scan_type, iter_num, hop_count, threshold)"
   ]
  },
  {
   "cell_type": "code",
   "execution_count": null,
   "metadata": {},
   "outputs": [],
   "source": [
    "result"
   ]
  },
  {
   "cell_type": "code",
   "execution_count": null,
   "metadata": {},
   "outputs": [],
   "source": [
    "#結果の保存\n",
    "result_path = '../result'\n",
    "\n",
    "if not os.path.exists(result_path):\n",
    "    os.mkdir(result_path)\n",
    "    print(result_path + 'を作成しました.')\n",
    "\n",
    "#保存ファイル名の決定\n",
    "Excel_name = 'result_file'\n",
    "\n",
    "#データフレームへの変換\n",
    "df = pd.DataFrame(result, columns=['ファイル名','p値','LLR値'])\n",
    "\n",
    "#エクセルデータとして結果を保存\n",
    "df.to_excel(result_path+Excel_name+'.xlsx', sheet_name='new_sheet_name')"
   ]
  },
  {
   "cell_type": "code",
   "execution_count": null,
   "metadata": {},
   "outputs": [],
   "source": [
    "#実験のログを保存\n",
    "log = ['リポジトリ : ' + repo_url + '\\n',\n",
    "     'ブランチ : ' + from_ver + ' - ' + to_ver + '\\n',\n",
    "     '結果ファイル : ' + Excel_name + '.xlsx \\n',\n",
    "     'CSの関数 : '       + scan_method + '\\n' , \n",
    "     '停止条件の種類 : ' + scan_type + '\\n' ,\n",
    "     'グラフの種類 : '   + graph_type + '\\n', \n",
    "     '例外処理 : '       + exception_select + '\\n' , \n",
    "     'しきい値 : '       + str(threshold) + '\\n' ,\n",
    "     'CSの実行回数 : '   + str(iter_num) + '\\n',\n",
    "     'CSのホップ数 : '   + str(hop_count)]\n",
    "\n",
    "#書き込み\n",
    "with open(result_path + '/' + Excel_name + '_result_log.txt', mode='w') as f:\n",
    "    f.writelines(s)\n",
    "\n",
    "with open(result_path + '/' + Excel_name + '_result_log.txt') as f:\n",
    "    print(f.read())"
   ]
  }
 ],
 "metadata": {
  "kernelspec": {
   "display_name": "Python 3",
   "language": "python",
   "name": "python3"
  },
  "language_info": {
   "codemirror_mode": {
    "name": "ipython",
    "version": 3
   },
   "file_extension": ".py",
   "mimetype": "text/x-python",
   "name": "python",
   "nbconvert_exporter": "python",
   "pygments_lexer": "ipython3",
   "version": "3.7.6"
  }
 },
 "nbformat": 4,
 "nbformat_minor": 2
}
