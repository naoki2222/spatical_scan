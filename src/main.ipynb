{
 "cells": [
  {
   "cell_type": "code",
   "execution_count": 1,
   "metadata": {},
   "outputs": [],
   "source": [
    "#インポート\n",
    "import numpy as np\n",
    "import pandas as pd\n",
    "from tqdm import tqdm_notebook as tqdm\n",
    "import openpyxl"
   ]
  },
  {
   "cell_type": "code",
   "execution_count": 2,
   "metadata": {},
   "outputs": [],
   "source": [
    "#ローカルファイルの読み込み\n",
    "import data_make as dm   #データを取得するためのファイル\n",
    "import Input_form as Info #ファイル名の入力などを行うためのファイル"
   ]
  },
  {
   "cell_type": "code",
   "execution_count": 3,
   "metadata": {},
   "outputs": [],
   "source": [
    "#データファイルの選択\n",
    "#local_ripository_path = Info.folder_select()\n",
    "#dot_name = Info.file_select('C:/Users/jackp/Research/spatical_scan/data/','dot','ファイルの依存関係(dot形式)')\n",
    "\n",
    "#リポジトリのURL指定\n",
    "repo_url = Info.get_text('コミット情報を取得するのリポジトリのURL')\n",
    "from_ver = Info.get_text('変更前のブランチ')\n",
    "to_ver = Info.get_text('変更後のブランチ')\n",
    "\n",
    "#APIのid, KEY\n",
    "client_id = Info.get_text('クライアントID')\n",
    "client_secret = Info.get_text('クライアントシークレット')"
   ]
  },
  {
   "cell_type": "code",
   "execution_count": 4,
   "metadata": {},
   "outputs": [
    {
     "name": "stdout",
     "output_type": "stream",
     "text": [
      "リポジトリのULR : https://github.com/apache/tomcat.git\n",
      "クライアントID : ed610b1e022dbc51c7f8\n",
      "クライアントシークレット6d9aac220c7af89abef64524bd15c25d1d8855e5\n"
     ]
    }
   ],
   "source": [
    "print('リポジトリのULR : ' + repo_url + '\\n'\n",
    "      #'行数データのファイル : ' + local_ripository_path + '\\n'\n",
    "      #'依存関係のファイル : ' + dot_name + '\\n'\n",
    "      'クライアントID : ' + client_id + '\\n'\n",
    "      'クライアントシークレット' + client_secret\n",
    "     )"
   ]
  },
  {
   "cell_type": "code",
   "execution_count": 9,
   "metadata": {},
   "outputs": [
    {
     "name": "stdout",
     "output_type": "stream",
     "text": [
      "api : https://api.github.com/repos/apache/tomcat/git/trees/8.5.43\n"
     ]
    },
    {
     "ename": "KeyError",
     "evalue": "'tree'",
     "output_type": "error",
     "traceback": [
      "\u001b[1;31m---------------------------------------------------------------------------\u001b[0m",
      "\u001b[1;31mKeyError\u001b[0m                                  Traceback (most recent call last)",
      "\u001b[1;32m<ipython-input-9-adf8402bcfbc>\u001b[0m in \u001b[0;36m<module>\u001b[1;34m\u001b[0m\n\u001b[0;32m      1\u001b[0m \u001b[1;31m#ファイルの行数とファイルの依存関係の取得\u001b[0m\u001b[1;33m\u001b[0m\u001b[1;33m\u001b[0m\u001b[1;33m\u001b[0m\u001b[0m\n\u001b[1;32m----> 2\u001b[1;33m \u001b[0mjava_line\u001b[0m\u001b[1;33m,\u001b[0m \u001b[0mjava_module\u001b[0m \u001b[1;33m=\u001b[0m \u001b[0mdm\u001b[0m\u001b[1;33m.\u001b[0m\u001b[0mget_java_line\u001b[0m\u001b[1;33m(\u001b[0m\u001b[0mrepo_url\u001b[0m\u001b[1;33m,\u001b[0m \u001b[0mfrom_ver\u001b[0m\u001b[1;33m,\u001b[0m \u001b[0mto_ver\u001b[0m\u001b[1;33m,\u001b[0m \u001b[0mclient_id\u001b[0m\u001b[1;33m,\u001b[0m \u001b[0mclient_secret\u001b[0m\u001b[1;33m)\u001b[0m\u001b[1;33m\u001b[0m\u001b[1;33m\u001b[0m\u001b[0m\n\u001b[0m\u001b[0;32m      3\u001b[0m \u001b[1;31m#コミット情報の取得\u001b[0m\u001b[1;33m\u001b[0m\u001b[1;33m\u001b[0m\u001b[1;33m\u001b[0m\u001b[0m\n\u001b[0;32m      4\u001b[0m \u001b[0mjava_commit\u001b[0m \u001b[1;33m=\u001b[0m \u001b[0mdm\u001b[0m\u001b[1;33m.\u001b[0m\u001b[0mget_java_commit\u001b[0m\u001b[1;33m(\u001b[0m\u001b[0mrepo_url\u001b[0m\u001b[1;33m,\u001b[0m \u001b[0mfrom_ver\u001b[0m\u001b[1;33m,\u001b[0m \u001b[0mto_ver\u001b[0m\u001b[1;33m,\u001b[0m \u001b[0mclient_id\u001b[0m\u001b[1;33m,\u001b[0m \u001b[0mclient_secret\u001b[0m\u001b[1;33m,\u001b[0m\u001b[0mjava_line\u001b[0m\u001b[1;33m)\u001b[0m\u001b[1;33m\u001b[0m\u001b[1;33m\u001b[0m\u001b[0m\n\u001b[0;32m      5\u001b[0m \u001b[1;31m#変更行数の割合を取得\u001b[0m\u001b[1;33m\u001b[0m\u001b[1;33m\u001b[0m\u001b[1;33m\u001b[0m\u001b[0m\n",
      "\u001b[1;32m~\\OneDrive\\jupyter_workspace\\spatical_scan\\src\\data_make.py\u001b[0m in \u001b[0;36mget_java_line\u001b[1;34m(repo_url, from_ver, to_ver, client_id, client_secret)\u001b[0m\n\u001b[0;32m    186\u001b[0m \u001b[1;33m\u001b[0m\u001b[0m\n\u001b[0;32m    187\u001b[0m     \u001b[1;31m#行数データの取得\u001b[0m\u001b[1;33m\u001b[0m\u001b[1;33m\u001b[0m\u001b[1;33m\u001b[0m\u001b[0m\n\u001b[1;32m--> 188\u001b[1;33m     \u001b[0mjava_line\u001b[0m\u001b[1;33m,\u001b[0m\u001b[0mjava_module\u001b[0m \u001b[1;33m=\u001b[0m \u001b[0mget_file_lines\u001b[0m\u001b[1;33m(\u001b[0m\u001b[0mdata\u001b[0m\u001b[1;33m,\u001b[0m \u001b[1;33m[\u001b[0m\u001b[1;33m]\u001b[0m\u001b[1;33m,\u001b[0m \u001b[1;33m[\u001b[0m\u001b[1;33m]\u001b[0m\u001b[1;33m,\u001b[0m\u001b[1;34m''\u001b[0m\u001b[1;33m,\u001b[0m\u001b[0mclient_id\u001b[0m\u001b[1;33m,\u001b[0m \u001b[0mclient_secret\u001b[0m\u001b[1;33m)\u001b[0m\u001b[1;33m\u001b[0m\u001b[1;33m\u001b[0m\u001b[0m\n\u001b[0m\u001b[0;32m    189\u001b[0m \u001b[1;33m\u001b[0m\u001b[0m\n\u001b[0;32m    190\u001b[0m     \u001b[1;31m#コミットの取得\u001b[0m\u001b[1;33m\u001b[0m\u001b[1;33m\u001b[0m\u001b[1;33m\u001b[0m\u001b[0m\n",
      "\u001b[1;32m~\\OneDrive\\jupyter_workspace\\spatical_scan\\src\\data_make.py\u001b[0m in \u001b[0;36mget_file_lines\u001b[1;34m(data, line_list, depends_list, path_name, client_id, client_secret)\u001b[0m\n\u001b[0;32m    149\u001b[0m \u001b[1;32mdef\u001b[0m \u001b[0mget_file_lines\u001b[0m\u001b[1;33m(\u001b[0m\u001b[0mdata\u001b[0m\u001b[1;33m,\u001b[0m \u001b[0mline_list\u001b[0m\u001b[1;33m,\u001b[0m \u001b[0mdepends_list\u001b[0m\u001b[1;33m,\u001b[0m \u001b[0mpath_name\u001b[0m\u001b[1;33m,\u001b[0m \u001b[0mclient_id\u001b[0m\u001b[1;33m,\u001b[0m \u001b[0mclient_secret\u001b[0m\u001b[1;33m)\u001b[0m\u001b[1;33m:\u001b[0m\u001b[1;33m\u001b[0m\u001b[1;33m\u001b[0m\u001b[0m\n\u001b[0;32m    150\u001b[0m \u001b[1;33m\u001b[0m\u001b[0m\n\u001b[1;32m--> 151\u001b[1;33m     \u001b[1;32mfor\u001b[0m \u001b[0mi\u001b[0m \u001b[1;32min\u001b[0m \u001b[0mtqdm\u001b[0m\u001b[1;33m(\u001b[0m\u001b[0mrange\u001b[0m\u001b[1;33m(\u001b[0m\u001b[0mlen\u001b[0m\u001b[1;33m(\u001b[0m\u001b[0mdata\u001b[0m\u001b[1;33m[\u001b[0m\u001b[1;34m'tree'\u001b[0m\u001b[1;33m]\u001b[0m\u001b[1;33m)\u001b[0m\u001b[1;33m)\u001b[0m\u001b[1;33m)\u001b[0m\u001b[1;33m:\u001b[0m\u001b[1;33m\u001b[0m\u001b[1;33m\u001b[0m\u001b[0m\n\u001b[0m\u001b[0;32m    152\u001b[0m         \u001b[1;32mif\u001b[0m \u001b[0mdata\u001b[0m\u001b[1;33m[\u001b[0m\u001b[1;34m'tree'\u001b[0m\u001b[1;33m]\u001b[0m\u001b[1;33m[\u001b[0m\u001b[0mi\u001b[0m\u001b[1;33m]\u001b[0m\u001b[1;33m[\u001b[0m\u001b[1;34m'type'\u001b[0m\u001b[1;33m]\u001b[0m \u001b[1;33m==\u001b[0m \u001b[1;34m'blob'\u001b[0m \u001b[1;32mand\u001b[0m \u001b[1;34m'.java'\u001b[0m \u001b[1;32min\u001b[0m \u001b[0mdata\u001b[0m\u001b[1;33m[\u001b[0m\u001b[1;34m'tree'\u001b[0m\u001b[1;33m]\u001b[0m\u001b[1;33m[\u001b[0m\u001b[0mi\u001b[0m\u001b[1;33m]\u001b[0m\u001b[1;33m[\u001b[0m\u001b[1;34m'path'\u001b[0m\u001b[1;33m]\u001b[0m\u001b[1;33m:\u001b[0m\u001b[1;33m\u001b[0m\u001b[1;33m\u001b[0m\u001b[0m\n\u001b[0;32m    153\u001b[0m             \u001b[0murl2\u001b[0m \u001b[1;33m=\u001b[0m \u001b[0mdata\u001b[0m\u001b[1;33m[\u001b[0m\u001b[1;34m'tree'\u001b[0m\u001b[1;33m]\u001b[0m\u001b[1;33m[\u001b[0m\u001b[0mi\u001b[0m\u001b[1;33m]\u001b[0m\u001b[1;33m[\u001b[0m\u001b[1;34m'url'\u001b[0m\u001b[1;33m]\u001b[0m\u001b[1;33m\u001b[0m\u001b[1;33m\u001b[0m\u001b[0m\n",
      "\u001b[1;31mKeyError\u001b[0m: 'tree'"
     ]
    }
   ],
   "source": [
    "#ファイルの行数とファイルの依存関係の取得\n",
    "java_line, java_module = dm.get_java_line(repo_url, from_ver, to_ver, client_id, client_secret)\n",
    "#コミット情報の取得\n",
    "java_commit = dm.get_java_commit(repo_url, from_ver, to_ver, client_id, client_secret,java_line)\n",
    "#変更行数の割合を取得\n",
    "prob_list = dm.get_prob_list(java_line, java_commit)"
   ]
  },
  {
   "cell_type": "code",
   "execution_count": 10,
   "metadata": {},
   "outputs": [
    {
     "name": "stdout",
     "output_type": "stream",
     "text": [
      "java_module\n"
     ]
    },
    {
     "ename": "NameError",
     "evalue": "name 'java_module' is not defined",
     "output_type": "error",
     "traceback": [
      "\u001b[1;31m---------------------------------------------------------------------------\u001b[0m",
      "\u001b[1;31mNameError\u001b[0m                                 Traceback (most recent call last)",
      "\u001b[1;32m<ipython-input-10-001deca3e62e>\u001b[0m in \u001b[0;36m<module>\u001b[1;34m\u001b[0m\n\u001b[0;32m      1\u001b[0m \u001b[1;31m#結果の出力\u001b[0m\u001b[1;33m\u001b[0m\u001b[1;33m\u001b[0m\u001b[1;33m\u001b[0m\u001b[0m\n\u001b[0;32m      2\u001b[0m \u001b[0mprint\u001b[0m\u001b[1;33m(\u001b[0m\u001b[1;34m'java_module'\u001b[0m\u001b[1;33m)\u001b[0m\u001b[1;33m\u001b[0m\u001b[1;33m\u001b[0m\u001b[0m\n\u001b[1;32m----> 3\u001b[1;33m \u001b[0mprint\u001b[0m\u001b[1;33m(\u001b[0m\u001b[0mlen\u001b[0m\u001b[1;33m(\u001b[0m\u001b[0mjava_module\u001b[0m\u001b[1;33m)\u001b[0m\u001b[1;33m)\u001b[0m\u001b[1;33m\u001b[0m\u001b[1;33m\u001b[0m\u001b[0m\n\u001b[0m\u001b[0;32m      4\u001b[0m \u001b[0mprint\u001b[0m\u001b[1;33m(\u001b[0m\u001b[1;34m'java_line'\u001b[0m\u001b[1;33m)\u001b[0m\u001b[1;33m\u001b[0m\u001b[1;33m\u001b[0m\u001b[0m\n\u001b[0;32m      5\u001b[0m \u001b[0mprint\u001b[0m\u001b[1;33m(\u001b[0m\u001b[0mlen\u001b[0m\u001b[1;33m(\u001b[0m\u001b[0mjava_line\u001b[0m\u001b[1;33m)\u001b[0m\u001b[1;33m)\u001b[0m\u001b[1;33m\u001b[0m\u001b[1;33m\u001b[0m\u001b[0m\n",
      "\u001b[1;31mNameError\u001b[0m: name 'java_module' is not defined"
     ]
    }
   ],
   "source": [
    "#結果の出力\n",
    "print('java_module')\n",
    "print(len(java_module))\n",
    "print('java_line')\n",
    "print(len(java_line))\n",
    "print('java_commit')\n",
    "print(len(java_commit))\n",
    "print('prob_list')\n",
    "print(len(prob_list))"
   ]
  },
  {
   "cell_type": "code",
   "execution_count": null,
   "metadata": {},
   "outputs": [],
   "source": [
    "#依存関係にないファイルを除外\n",
    "j_commit = []\n",
    "j_line = []\n",
    "p_list  = []\n",
    "\n",
    "for i in tqdm(java_module):\n",
    "    for j in java_commit:\n",
    "        if (j[0] in i) and (j not in j_commit):\n",
    "            j_commit.append(j)\n",
    "\n",
    "for i in tqdm(java_module):\n",
    "    for j in java_line:\n",
    "        if (j[0] in i) and (j not in j_line):\n",
    "            j_line.append(j)\n",
    "\n",
    "for i in tqdm(java_module):\n",
    "    for j in prob_list:\n",
    "        if (j[0] in i) and (j  not in p_list):\n",
    "            p_list.append(j)\n",
    "            \n",
    "java_commit = sorted(j_commit, key=lambda x:x[1], reverse=True)\n",
    "java_line = sorted(j_line, key=lambda x:x[1], reverse=True)\n",
    "prob_list  = sorted(p_list, key=lambda x:x[1], reverse=True)"
   ]
  },
  {
   "cell_type": "code",
   "execution_count": null,
   "metadata": {},
   "outputs": [],
   "source": [
    "#結果の出力\n",
    "print('java_module')\n",
    "print(len(java_module))\n",
    "print('java_line')\n",
    "print(len(java_line))\n",
    "print('java_commit')\n",
    "print(len(java_commit))\n",
    "print('prob_list')\n",
    "print(len(prob_list))"
   ]
  },
  {
   "cell_type": "code",
   "execution_count": null,
   "metadata": {},
   "outputs": [],
   "source": [
    "#空間スキャン検定に必要なファイルの読み込み\n",
    "import CircularScan as cs"
   ]
  },
  {
   "cell_type": "code",
   "execution_count": null,
   "metadata": {},
   "outputs": [],
   "source": [
    "#CSのタイプを選択\n",
    "#scan_type = 'hop'  #'hop'ならC_scan_hops()を使用.\n",
    "scan_type = 'default' #それ以外ならC_scan()を使用する\n",
    "\n",
    "#C_scan_hops()の設定\n",
    "iter_num = 1     #CSの反復回数\n",
    "hop_count = 2     #C_scan_hops()を使うときのホップ数\n",
    "\n",
    "#C_scanの設定\n",
    "threshold = 0.25   #領域拡大の停止条件(threshold=0.05 → 領域の行数が全体の5%以上になったら停止)\n",
    "\n",
    "#実行\n",
    "result = cs.CS_run(java_line, java_commit, java_module, prob_list, scan_type, iter_num, hop_count, threshold)"
   ]
  },
  {
   "cell_type": "code",
   "execution_count": null,
   "metadata": {},
   "outputs": [],
   "source": [
    "result"
   ]
  },
  {
   "cell_type": "code",
   "execution_count": null,
   "metadata": {},
   "outputs": [],
   "source": [
    "#保存ファイル名の決定\n",
    "Excel_name = 'result'\n",
    "\n",
    "#データフレームへの変換\n",
    "df = pd.DataFrame(result, columns=['ファイル名','p値'])\n",
    "\n",
    "#エクセルデータとして結果を保存\n",
    "df.to_excel('../result/'+Excel_name+'.xlsx', sheet_name='new_sheet_name')"
   ]
  }
 ],
 "metadata": {
  "kernelspec": {
   "display_name": "Python 3",
   "language": "python",
   "name": "python3"
  },
  "language_info": {
   "codemirror_mode": {
    "name": "ipython",
    "version": 3
   },
   "file_extension": ".py",
   "mimetype": "text/x-python",
   "name": "python",
   "nbconvert_exporter": "python",
   "pygments_lexer": "ipython3",
   "version": "3.7.6"
  }
 },
 "nbformat": 4,
 "nbformat_minor": 2
}
