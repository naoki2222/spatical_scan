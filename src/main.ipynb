{
 "cells": [
  {
   "cell_type": "code",
   "execution_count": null,
   "metadata": {},
   "outputs": [],
   "source": [
    "#インポート\n",
    "import numpy as np\n",
    "import pandas as pd\n",
    "from tqdm import tqdm_notebook as tqdm\n",
    "import openpyxl\n",
    "import git\n",
    "import os"
   ]
  },
  {
   "cell_type": "code",
   "execution_count": null,
   "metadata": {},
   "outputs": [],
   "source": [
    "#ローカルファイルの読み込み\n",
    "import data_make as dm   #データを取得するためのファイル\n",
    "import Input_form as Info #ファイル名の入力などを行うためのファイル"
   ]
  },
  {
   "cell_type": "code",
   "execution_count": null,
   "metadata": {},
   "outputs": [],
   "source": [
    "#リポジトリのURL指定\n",
    "repo_url = Info.get_text('コミット情報を取得するのリポジトリのURL')\n",
    "from_ver = Info.get_text('変更前のブランチ')\n",
    "to_ver = Info.get_text('変更後のブランチ')\n",
    "\n",
    "#APIのid, KEY\n",
    "client_id = Info.get_text('クライアントID')\n",
    "client_secret = Info.get_text('クライアントシークレット')"
   ]
  },
  {
   "cell_type": "code",
   "execution_count": null,
   "metadata": {},
   "outputs": [],
   "source": [
    "print('リポジトリのULR : ' + repo_url + '\\n'\n",
    "      #'行数データのファイル : ' + local_ripository_path + '\\n'\n",
    "      #'依存関係のファイル : ' + dot_name + '\\n'\n",
    "      'クライアントID : ' + client_id + '\\n'\n",
    "      'クライアントシークレット' + client_secret\n",
    "     )"
   ]
  },
  {
   "cell_type": "code",
   "execution_count": null,
   "metadata": {},
   "outputs": [],
   "source": [
    "#ローカルリポジトリを作成するディレクトリの指定\n",
    "#repo_path = '../repo'\n",
    "#repo_path = '../repo2'\n",
    "repo_path = '../repo3'\n",
    "\n",
    "#すでに../repoにファイルが存在するならクローンしない\n",
    "if os.listdir(repo_path) == []:\n",
    "    #リポジトリのクローン\n",
    "    git.Repo.clone_from(repo_url, repo_path, branch=to_ver)"
   ]
  },
  {
   "cell_type": "code",
   "execution_count": null,
   "metadata": {},
   "outputs": [],
   "source": [
    "#ファイルの行数とファイルの依存関係の取得\n",
    "java_line = dm.get_java_line(repo_path, repo_url, from_ver, to_ver, client_id, client_secret)\n",
    "#コミット情報の取得\n",
    "java_commit = dm.get_java_commit(repo_url, from_ver, to_ver, client_id, client_secret,java_line)\n",
    "#変更行数の割合を取得\n",
    "prob_list = dm.get_prob_list(java_line, java_commit)\n",
    "#依存関係の取得\n",
    "import_module, exception_module= dm.get_dependencies(repo_path)"
   ]
  },
  {
   "cell_type": "code",
   "execution_count": null,
   "metadata": {},
   "outputs": [],
   "source": [
    "#結果の出力\n",
    "print('import_module')\n",
    "print('依存関係数: '+ str(len(import_module)))\n",
    "print('exception_module')\n",
    "print('例外依存関係数: '+ str(len(exception_module)))\n",
    "\n",
    "print('java_line')\n",
    "print('ファイル数: '+ str(len(java_line)))\n",
    "print('java_commit')\n",
    "print('コミットファイル数: ',str(len(java_commit)))\n",
    "print('prob_list')\n",
    "print(len(prob_list))"
   ]
  },
  {
   "cell_type": "code",
   "execution_count": null,
   "metadata": {},
   "outputs": [],
   "source": [
    "#ファイル名のリストの作成\n",
    "file_list = []\n",
    "for i in java_line:\n",
    "    file_list.append(i[0])\n",
    "\n",
    "\n",
    "#java_lineにない例外依存関係を取り除く\n",
    "new_exception_module = []\n",
    "for i in tqdm(exception_module):\n",
    "    for j in file_list:\n",
    "        if i[1] in j:\n",
    "            new_exception_module.append([i[0],j])\n",
    "            \n",
    "#java_lineにない依存関係を取り除く\n",
    "new_import_module = []\n",
    "for i in tqdm(import_module):\n",
    "    for j in file_list:\n",
    "        if i[1] in j:\n",
    "            new_import_module.append([i[0],j])"
   ]
  },
  {
   "cell_type": "code",
   "execution_count": null,
   "metadata": {},
   "outputs": [],
   "source": [
    "print(len(new_exception_module))\n",
    "new_exception_module"
   ]
  },
  {
   "cell_type": "code",
   "execution_count": null,
   "metadata": {},
   "outputs": [],
   "source": [
    "print(len(new_import_module))\n",
    "new_import_module"
   ]
  },
  {
   "cell_type": "code",
   "execution_count": null,
   "metadata": {},
   "outputs": [],
   "source": [
    "#無効グラフの作成\n",
    "undirected_module = []\n",
    "for i in tqdm(new_import_module):\n",
    "    undirected_module.append([i[1],i[0]])\n",
    "    \n",
    "undirected_module = new_import_module + undirected_module\n",
    "len(undirected_module)"
   ]
  },
  {
   "cell_type": "code",
   "execution_count": null,
   "metadata": {},
   "outputs": [],
   "source": [
    "len(new_import_module)"
   ]
  },
  {
   "cell_type": "code",
   "execution_count": null,
   "metadata": {},
   "outputs": [],
   "source": [
    "#例外処理のファイルの依存関係を取り除く\n",
    "exclude_exception_module = []\n",
    "for i in new_import_module:\n",
    "    if i not in new_exception_module:\n",
    "        exclude_exception_module.append(i)\n",
    "        \n",
    "print(len(exclude_exception_module))\n",
    "exclude_exception_module"
   ]
  },
  {
   "cell_type": "code",
   "execution_count": null,
   "metadata": {},
   "outputs": [],
   "source": [
    "#無効グラフの作成\n",
    "#例外処理のファイルの依存関係を取り除く\n",
    "#無効グラフの作成\n",
    "exclude_undirected_module = []\n",
    "for i in tqdm(exclude_exception_module):\n",
    "    exclude_undirected_module.append([i[1],i[0]])\n",
    "\n",
    "exclude_undirected_module = exclude_exception_module + exclude_undirected_module\n",
    "len(exclude_undirected_module)"
   ]
  },
  {
   "cell_type": "code",
   "execution_count": null,
   "metadata": {},
   "outputs": [],
   "source": [
    "#依存関係の選択\n",
    "#java_module = exclude_exception_module #<--有向グラフ 例外処理なし\n",
    "#java_module = new_import_module   #<-- 有向グラフ 例外処理あり\n",
    "java_module = undirected_module # <-- 無向グラフ 例外処理あり\n",
    "#java_module = exclude_undirected_module  #<-- 無向グラフ 例外処理なし"
   ]
  },
  {
   "cell_type": "code",
   "execution_count": null,
   "metadata": {},
   "outputs": [],
   "source": [
    "#結果の出力\n",
    "print('java_module')\n",
    "print(len(java_module))\n",
    "print('java_line')\n",
    "print(len(java_line))\n",
    "print('java_commit')\n",
    "print(len(java_commit))\n",
    "print('prob_list')\n",
    "print(len(prob_list))"
   ]
  },
  {
   "cell_type": "code",
   "execution_count": null,
   "metadata": {},
   "outputs": [],
   "source": [
    "#空間スキャン検定に必要なファイルの読み込み\n",
    "import CircularScan as cs"
   ]
  },
  {
   "cell_type": "code",
   "execution_count": null,
   "metadata": {},
   "outputs": [],
   "source": [
    "#CSのタイプを選択\n",
    "#scan_type = 'hop'  #'hop'ならC_scan_hops()を使用.\n",
    "scan_type = 'default' #それ以外ならC_scan()を使用する\n",
    "\n",
    "#C_scan_hops()の設定\n",
    "iter_num = 10     #CSの反復回数\n",
    "hop_count = 2     #C_scan_hops()を使うときのホップ数\n",
    "\n",
    "#C_scanの設定\n",
    "threshold = 0.50   #領域拡大の停止条件(threshold=0.05 → 領域の行数が全体の5%以上になったら停止)\n",
    "\n",
    "#実行\n",
    "#result = cs.CS_run_repeat(java_line, java_commit, java_module, prob_list, scan_type, iter_num, hop_count, threshold)\n",
    "result = cs.CS_run_single(java_line, java_commit, java_module, prob_list, scan_type, iter_num, hop_count, threshold)"
   ]
  },
  {
   "cell_type": "code",
   "execution_count": null,
   "metadata": {},
   "outputs": [],
   "source": [
    "result"
   ]
  },
  {
   "cell_type": "code",
   "execution_count": null,
   "metadata": {},
   "outputs": [],
   "source": [
    "#保存ファイル名の決定\n",
    "Excel_name = 'result_JSP_undirected_1'\n",
    "\n",
    "#データフレームへの変換\n",
    "df = pd.DataFrame(result, columns=['ファイル名','p値','LLR値'])\n",
    "\n",
    "#エクセルデータとして結果を保存\n",
    "df.to_excel('../result/'+Excel_name+'.xlsx', sheet_name='new_sheet_name')"
   ]
  }
 ],
 "metadata": {
  "kernelspec": {
   "display_name": "Python 3",
   "language": "python",
   "name": "python3"
  },
  "language_info": {
   "codemirror_mode": {
    "name": "ipython",
    "version": 3
   },
   "file_extension": ".py",
   "mimetype": "text/x-python",
   "name": "python",
   "nbconvert_exporter": "python",
   "pygments_lexer": "ipython3",
   "version": "3.7.6"
  }
 },
 "nbformat": 4,
 "nbformat_minor": 2
}
